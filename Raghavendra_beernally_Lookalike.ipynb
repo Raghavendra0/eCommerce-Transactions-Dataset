{
 "cells": [
  {
   "cell_type": "code",
   "execution_count": 1,
   "id": "e4e1ec7f-0ccd-4022-9b44-d1bde6792016",
   "metadata": {},
   "outputs": [],
   "source": [
    "from sklearn.neighbors import NearestNeighbors"
   ]
  },
  {
   "cell_type": "code",
   "execution_count": null,
   "id": "2f749a8e-15c9-4a64-993e-d9742f910711",
   "metadata": {},
   "outputs": [],
   "source": [
    "# Merge datasets for lookalike model\n",
    "data = pd.merge(transactions, customers, on='CustomerID')\n",
    "data = pd.merge(data, products, on='ProductID')\n",
    "\n",
    "# Verify column names\n",
    "print(\"Columns in data after merge:\", data.columns)\n",
    "\n",
    "# Ensure the Price column exists or calculate it\n",
    "if 'Price' not in data.columns:\n",
    "    data['Price'] = data['TotalValue'] / data['Quantity']\n",
    "\n",
    "# Preprocessing for Lookalike Model\n",
    "customer_features = data.groupby('CustomerID').agg({\n",
    "    'TotalValue': 'sum',\n",
    "    'Quantity': 'sum',\n",
    "    'Price': 'mean',\n",
    "}).reset_index()\n",
    "\n",
    "customer_features = pd.merge(customer_features, customers[['CustomerID', 'Region']], on='CustomerID')\n",
    "customer_features['Region'] = LabelEncoder().fit_transform(customer_features['Region'])\n",
    "\n",
    "# Normalize data\n",
    "scaler = StandardScaler()\n",
    "feature_matrix = scaler.fit_transform(customer_features.drop(columns=['CustomerID']))\n",
    "\n",
    "# Build Lookalike Model (KNN)\n",
    "knn = NearestNeighbors(n_neighbors=4, metric='cosine')  # 3 similar customers + self\n",
    "knn.fit(feature_matrix)\n",
    "\n",
    "# Find top 3 similar customers for first 20 customers\n",
    "lookalike_results = {}\n",
    "for i in range(20):\n",
    "    distances, indices = knn.kneighbors([feature_matrix[i]])\n",
    "    lookalike_results[customer_features.iloc[i]['CustomerID']] = [\n",
    "        (customer_features.iloc[indices[0][j]]['CustomerID'], 1 - distances[0][j])\n",
    "        for j in range(1, 4)\n",
    "    ]"
   ]
  }
 ],
 "metadata": {
  "kernelspec": {
   "display_name": "Python [conda env:base] *",
   "language": "python",
   "name": "conda-base-py"
  },
  "language_info": {
   "codemirror_mode": {
    "name": "ipython",
    "version": 3
   },
   "file_extension": ".py",
   "mimetype": "text/x-python",
   "name": "python",
   "nbconvert_exporter": "python",
   "pygments_lexer": "ipython3",
   "version": "3.12.7"
  }
 },
 "nbformat": 4,
 "nbformat_minor": 5
}
