{
 "cells": [
  {
   "cell_type": "code",
   "execution_count": null,
   "id": "a0ceeb2d-b3ee-4893-a292-1a3df848c006",
   "metadata": {},
   "outputs": [],
   "source": [
    "# Combine profile and transaction data for clustering\n",
    "segmentation_data = data.groupby('CustomerID').agg({\n",
    "    'TotalValue': 'sum',\n",
    "    'Quantity': 'sum',\n",
    "    'Price': 'mean',\n",
    "}).reset_index()\n",
    "segmentation_data = pd.merge(segmentation_data, customers[['CustomerID', 'Region']], on='CustomerID')\n",
    "segmentation_data['Region'] = LabelEncoder().fit_transform(segmentation_data['Region'])\n",
    "\n",
    "# Normalize features\n",
    "scaled_data = scaler.fit_transform(segmentation_data.drop(columns=['CustomerID']))\n",
    "\n",
    "# Perform Clustering (K-Means)\n",
    "kmeans = KMeans(n_clusters=4, random_state=42)  # Adjust n_clusters if needed\n",
    "clusters = kmeans.fit_predict(scaled_data)\n",
    "segmentation_data['Cluster'] = clusters\n",
    "\n",
    "# Evaluate Clustering (DB Index)\n",
    "db_index = davies_bouldin_score(scaled_data, clusters)\n",
    "print(f\"Davies-Bouldin Index: {db_index}\")\n",
    "\n",
    "# Visualize Clusters\n",
    "sns.scatterplot(x=scaled_data[:, 0], y=scaled_data[:, 1], hue=clusters, palette='viridis')\n",
    "plt.title('Customer Clusters')\n",
    "plt.show()"
   ]
  }
 ],
 "metadata": {
  "kernelspec": {
   "display_name": "Python [conda env:base] *",
   "language": "python",
   "name": "conda-base-py"
  },
  "language_info": {
   "codemirror_mode": {
    "name": "ipython",
    "version": 3
   },
   "file_extension": ".py",
   "mimetype": "text/x-python",
   "name": "python",
   "nbconvert_exporter": "python",
   "pygments_lexer": "ipython3",
   "version": "3.12.7"
  }
 },
 "nbformat": 4,
 "nbformat_minor": 5
}
