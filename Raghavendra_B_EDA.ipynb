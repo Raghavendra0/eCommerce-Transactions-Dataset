{
 "cells": [
  {
   "cell_type": "code",
   "execution_count": null,
   "id": "8cb51d2e-ffd8-4c54-9b1e-f70203ca7f20",
   "metadata": {},
   "outputs": [],
   "source": [
    "import pandas as pd\n",
    "import numpy as np\n",
    "import seaborn as sns\n",
    "import matplotlib.pyplot as plt\n",
    "from sklearn.metrics.pairwise import cosine_similarity\n",
    "from sklearn.cluster import KMeans\n",
    "from sklearn.preprocessing import StandardScaler, LabelEncoder\n",
    "from sklearn.metrics import davies_bouldin_score\n",
    "\n",
    "# Load datasets\n",
    "customers = pd.read_csv('https://drive.google.com/uc?id=1bu_--mo79VdUG9oin4ybfFGRUSXAe-WE')\n",
    "products = pd.read_csv('https://drive.google.com/uc?id=1IKuDizVapw-hyktwfpoAoaGtHtTNHfd0')\n",
    "transactions = pd.read_csv('https://drive.google.com/uc?id=1saEqdbBB-vuk2hxoAf4TzDEsykdKlzbF')\n",
    "# Basic exploration\n",
    "print(customers.info())\n",
    "print(products.info())\n",
    "print(transactions.info())\n",
    "\n",
    "# Merge datasets for analysis\n",
    "data = pd.merge(transactions, customers, on='CustomerID')\n",
    "data = pd.merge(data, products, on='ProductID')\n",
    "\n",
    "# Example EDA visualizations\n",
    "# 1. Customers by Region\n",
    "sns.countplot(x='Region', data=customers)\n",
    "plt.title('Customers by Region')\n",
    "plt.xticks(rotation=45)\n",
    "plt.show()\n",
    "\n",
    "# 2. Revenue by Product Category\n",
    "category_revenue = data.groupby('Category')['TotalValue'].sum().sort_values(ascending=False)\n",
    "category_revenue.plot(kind='bar', color='teal')\n",
    "plt.title('Revenue by Product Category')\n",
    "plt.show()\n",
    "\n",
    "# 3. Signup trends over time\n",
    "customers['SignupDate'] = pd.to_datetime(customers['SignupDate'])\n",
    "customers['SignupYearMonth'] = customers['SignupDate'].dt.to_period('M')\n",
    "signup_trend = customers['SignupYearMonth'].value_counts().sort_index()\n",
    "signup_trend.plot(kind='line', marker='o', color='orange')\n",
    "plt.title('Signup Trends Over Time')\n",
    "plt.show()\n",
    "\n",
    "# 4. High-value customers (top 10% of spenders)\n",
    "top_10_percent_spenders = data.groupby('CustomerID')['TotalValue'].sum().nlargest(int(len(customers)*0.1))\n",
    "print(f\"Top 10% spenders contribute {top_10_percent_spenders.sum()} to revenue.\")\n",
    "\n",
    "# 5. Most purchased products\n",
    "popular_products = data['ProductName'].value_counts().head(10)\n",
    "print(\"Top 10 Most Purchased Products:\")\n",
    "print(popular_products)\n"
   ]
  }
 ],
 "metadata": {
  "kernelspec": {
   "display_name": "Python [conda env:base] *",
   "language": "python",
   "name": "conda-base-py"
  },
  "language_info": {
   "codemirror_mode": {
    "name": "ipython",
    "version": 3
   },
   "file_extension": ".py",
   "mimetype": "text/x-python",
   "name": "python",
   "nbconvert_exporter": "python",
   "pygments_lexer": "ipython3",
   "version": "3.12.7"
  }
 },
 "nbformat": 4,
 "nbformat_minor": 5
}
